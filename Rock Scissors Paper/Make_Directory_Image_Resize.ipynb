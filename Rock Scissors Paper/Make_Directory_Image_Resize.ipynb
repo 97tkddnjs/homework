{
 "cells": [
  {
   "cell_type": "code",
   "execution_count": 27,
   "metadata": {},
   "outputs": [],
   "source": [
    "import numpy as np\n",
    "import pandas as pd\n",
    "import os\n",
    "import glob\n",
    "import shutil\n",
    "import random\n",
    "import matplotlib.pylab as plt\n",
    "from PIL import Image"
   ]
  },
  {
   "cell_type": "code",
   "execution_count": 9,
   "metadata": {},
   "outputs": [],
   "source": [
    "base_dir = \"./dataset\"\n",
    "\n",
    "# train validation test 디렉터리 생성\n",
    "train_dir = os.path.join(base_dir,\"train\")\n",
    "os.mkdir(train_dir)\n",
    "\n",
    "validation_dir = os.path.join(base_dir,\"validation\")\n",
    "os.mkdir(validation_dir)\n",
    "\n",
    "test_dir = os.path.join(base_dir,\"test\")\n",
    "os.mkdir(test_dir)\n",
    "\n",
    "\n"
   ]
  },
  {
   "cell_type": "code",
   "execution_count": 28,
   "metadata": {},
   "outputs": [],
   "source": [
    "#훈련용 가위바위보 경로\n",
    "train_rock_dir = os.path.join(train_dir,\"rock\")\n",
    "os.mkdir(train_rock_dir)\n",
    "\n",
    "train_scissors_dir = os.path.join(train_dir,\"scissors\")\n",
    "os.mkdir(train_scissors_dir)\n",
    "\n",
    "train_paper_dir = os.path.join(train_dir,\"paper\")\n",
    "os.mkdir(train_paper_dir)\n",
    "\n",
    "#검증용 가위바위보 경로\n",
    "validation_rock_dir = os.path.join(validation_dir,\"rock\")\n",
    "os.mkdir(validation_rock_dir)\n",
    "\n",
    "validation_scissors_dir = os.path.join(validation_dir,\"scissors\")\n",
    "os.mkdir(validation_scissors_dir)\n",
    "\n",
    "validation_paper_dir = os.path.join(validation_dir,\"paper\")\n",
    "os.mkdir(validation_paper_dir)\n",
    "\n",
    "#테스트용 가위바위보 경로\n",
    "test_rock_dir = os.path.join(test_dir,\"rock\")\n",
    "os.mkdir(test_rock_dir)\n",
    "\n",
    "test_scissors_dir = os.path.join(test_dir,\"scissors\")\n",
    "os.mkdir(test_scissors_dir)\n",
    "\n",
    "test_paper_dir = os.path.join(test_dir,\"paper\")\n",
    "os.mkdir(test_paper_dir)\n",
    "\n"
   ]
  },
  {
   "cell_type": "code",
   "execution_count": 30,
   "metadata": {},
   "outputs": [],
   "source": [
    "#바위이미지 옮기기\n",
    "orgin_dir = \"./dataset/rock\"\n",
    "fnames = ['rock_img_{}.jpg'.format(i+1) for i in range(300)]\n",
    "for fname in fnames:\n",
    "    src = os.path.join(orgin_dir,fname)\n",
    "    dst = os.path.join(train_rock_dir,fname)\n",
    "    shutil.copyfile(src,dst)\n",
    "    \n",
    "#orgin_dir = \"./dataset/\"\n",
    "fnames = ['rock_img_{}.jpg'.format(i+1) for i in range(300, 400)]\n",
    "for fname in fnames:\n",
    "    src = os.path.join(orgin_dir,fname)\n",
    "    dst = os.path.join(validation_rock_dir,fname)\n",
    "    shutil.copyfile(src,dst)\n",
    "    \n",
    "fnames = ['rock_img_{}.jpg'.format(i+1) for i in range(400, 500)]\n",
    "for fname in fnames:\n",
    "    src = os.path.join(orgin_dir,fname)\n",
    "    dst = os.path.join(test_rock_dir,fname)\n",
    "    shutil.copyfile(src,dst)\n",
    "    \n"
   ]
  },
  {
   "cell_type": "code",
   "execution_count": 31,
   "metadata": {},
   "outputs": [],
   "source": [
    "#가위이미지 옮기기\n",
    "orgin_dir = \"./dataset/scissors\"\n",
    "fnames = ['scissors_img_{}.jpg'.format(i+1) for i in range(300)]\n",
    "for fname in fnames:\n",
    "    src = os.path.join(orgin_dir,fname)\n",
    "    dst = os.path.join(train_scissors_dir,fname)\n",
    "    shutil.copyfile(src,dst)\n",
    "    \n",
    "#orgin_dir = \"./dataset/\"\n",
    "fnames = ['scissors_img_{}.jpg'.format(i+1) for i in range(300, 400)]\n",
    "for fname in fnames:\n",
    "    src = os.path.join(orgin_dir,fname)\n",
    "    dst = os.path.join(validation_scissors_dir,fname)\n",
    "    shutil.copyfile(src,dst)\n",
    "    \n",
    "fnames = ['scissors_img_{}.jpg'.format(i+1) for i in range(400, 500)]\n",
    "for fname in fnames:\n",
    "    src = os.path.join(orgin_dir,fname)\n",
    "    dst = os.path.join(test_scissors_dir,fname)\n",
    "    shutil.copyfile(src,dst)\n",
    "    \n"
   ]
  },
  {
   "cell_type": "code",
   "execution_count": 32,
   "metadata": {},
   "outputs": [],
   "source": [
    "#보 이미지 옮기기\n",
    "orgin_dir = \"./dataset/paper\"\n",
    "fnames = ['paper_img_{}.jpg'.format(i+1) for i in range(300)]\n",
    "for fname in fnames:\n",
    "    src = os.path.join(orgin_dir,fname)\n",
    "    dst = os.path.join(train_paper_dir,fname)\n",
    "    shutil.copyfile(src,dst)\n",
    "    \n",
    "#orgin_dir = \"./dataset/\"\n",
    "fnames = ['paper_img_{}.jpg'.format(i+1) for i in range(300, 400)]\n",
    "for fname in fnames:\n",
    "    src = os.path.join(orgin_dir,fname)\n",
    "    dst = os.path.join(validation_paper_dir,fname)\n",
    "    shutil.copyfile(src,dst)\n",
    "    \n",
    "fnames = ['paper_img_{}.jpg'.format(i+1) for i in range(400, 500)]\n",
    "for fname in fnames:\n",
    "    src = os.path.join(orgin_dir,fname)\n",
    "    dst = os.path.join(test_paper_dir,fname)\n",
    "    shutil.copyfile(src,dst)\n",
    "    \n"
   ]
  },
  {
   "cell_type": "code",
   "execution_count": 24,
   "metadata": {},
   "outputs": [],
   "source": [
    "#보 그림 300,300크기로 바꾸고 저장\n",
    "a=glob.glob(\"./paper/*.jpg\")\n",
    "random.shuffle(a)\n",
    "i=1\n",
    "for fname in a:\n",
    "    im = Image.open(fname)\n",
    "    img2 = im.resize((300,300))\n",
    "    img2.save(\"./dataset/paper/paper_img_{}.jpg\".format(i))\n",
    "    i+=1\n"
   ]
  },
  {
   "cell_type": "code",
   "execution_count": 25,
   "metadata": {},
   "outputs": [],
   "source": [
    "#바위 그림 300,300크기로 바꾸고 저장\n",
    "b=glob.glob(\"./rock/*.jpg\")\n",
    "random.shuffle(b)\n",
    "i=1\n",
    "for fname in b:\n",
    "    im = Image.open(fname)\n",
    "    img2 = im.resize((300,300))\n",
    "    img2.save(\"./dataset/rock/rock_img_{}.jpg\".format(i))\n",
    "    i+=1\n"
   ]
  },
  {
   "cell_type": "code",
   "execution_count": 26,
   "metadata": {},
   "outputs": [],
   "source": [
    "#가위 그림 300,300으로 바꾸고 저장\n",
    "c=glob.glob(\"./scissors/*.jpg\")\n",
    "random.shuffle(c)\n",
    "i=1\n",
    "for fname in c:\n",
    "    im = Image.open(fname)\n",
    "    img2 = im.resize((300,300))\n",
    "    img2.save(\"./dataset/scissors/scissors_img_{}.jpg\".format(i))\n",
    "    i+=1"
   ]
  }
 ],
 "metadata": {
  "kernelspec": {
   "display_name": "Python 3",
   "language": "python",
   "name": "python3"
  },
  "language_info": {
   "codemirror_mode": {
    "name": "ipython",
    "version": 3
   },
   "file_extension": ".py",
   "mimetype": "text/x-python",
   "name": "python",
   "nbconvert_exporter": "python",
   "pygments_lexer": "ipython3",
   "version": "3.6.8"
  }
 },
 "nbformat": 4,
 "nbformat_minor": 2
}
